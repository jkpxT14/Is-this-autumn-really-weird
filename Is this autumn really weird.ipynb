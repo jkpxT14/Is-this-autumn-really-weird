{
 "cells": [
  {
   "cell_type": "markdown",
   "metadata": {},
   "source": [
    "## <Is this autumn really weird?>"
   ]
  },
  {
   "cell_type": "code",
   "execution_count": 9,
   "metadata": {},
   "outputs": [],
   "source": [
    "# import sys\n",
    "# sys.path\n",
    "# sys.path.append(\"C:/Users/jkpxtwin/AppData/Local/Programs/Python/Python310/Lib/site-packages\")"
   ]
  },
  {
   "cell_type": "code",
   "execution_count": 10,
   "metadata": {},
   "outputs": [
    {
     "ename": "ImportError",
     "evalue": "Unable to import required dependencies:\nnumpy: \n\nIMPORTANT: PLEASE READ THIS FOR ADVICE ON HOW TO SOLVE THIS ISSUE!\n\nImporting the numpy C-extensions failed. This error can happen for\nmany reasons, often due to issues with your setup or how NumPy was\ninstalled.\n\nWe have compiled some common reasons and troubleshooting tips at:\n\n    https://numpy.org/devdocs/user/troubleshooting-importerror.html\n\nPlease note and check the following:\n\n  * The Python version is: Python3.12 from \"c:\\Users\\jkpxtwin\\AppData\\Local\\Programs\\Python\\Python312\\python.exe\"\n  * The NumPy version is: \"1.25.2\"\n\nand make sure that they are the versions you expect.\nPlease carefully study the documentation linked above for further help.\n\nOriginal error was: No module named 'numpy.core._multiarray_umath'\n",
     "output_type": "error",
     "traceback": [
      "\u001b[1;31m---------------------------------------------------------------------------\u001b[0m",
      "\u001b[1;31mImportError\u001b[0m                               Traceback (most recent call last)",
      "Cell \u001b[1;32mIn[10], line 1\u001b[0m\n\u001b[1;32m----> 1\u001b[0m \u001b[38;5;28;01mimport\u001b[39;00m \u001b[38;5;21;01mpandas\u001b[39;00m \u001b[38;5;28;01mas\u001b[39;00m \u001b[38;5;21;01mpd\u001b[39;00m\n\u001b[0;32m      2\u001b[0m \u001b[38;5;28;01mimport\u001b[39;00m \u001b[38;5;21;01mnumpy\u001b[39;00m \u001b[38;5;28;01mas\u001b[39;00m \u001b[38;5;21;01mnp\u001b[39;00m\n\u001b[0;32m      3\u001b[0m \u001b[38;5;28;01mimport\u001b[39;00m \u001b[38;5;21;01mmatplotlib\u001b[39;00m\u001b[38;5;21;01m.\u001b[39;00m\u001b[38;5;21;01mpyplot\u001b[39;00m \u001b[38;5;28;01mas\u001b[39;00m \u001b[38;5;21;01mplt\u001b[39;00m\n",
      "File \u001b[1;32mC:\\Users/jkpxtwin/AppData/Local/Programs/Python/Python310/Lib/site-packages\\pandas\\__init__.py:16\u001b[0m\n\u001b[0;32m     13\u001b[0m         _missing_dependencies\u001b[38;5;241m.\u001b[39mappend(\u001b[38;5;124mf\u001b[39m\u001b[38;5;124m\"\u001b[39m\u001b[38;5;132;01m{\u001b[39;00m_dependency\u001b[38;5;132;01m}\u001b[39;00m\u001b[38;5;124m: \u001b[39m\u001b[38;5;132;01m{\u001b[39;00m_e\u001b[38;5;132;01m}\u001b[39;00m\u001b[38;5;124m\"\u001b[39m)\n\u001b[0;32m     15\u001b[0m \u001b[38;5;28;01mif\u001b[39;00m _missing_dependencies:\n\u001b[1;32m---> 16\u001b[0m     \u001b[38;5;28;01mraise\u001b[39;00m \u001b[38;5;167;01mImportError\u001b[39;00m(\n\u001b[0;32m     17\u001b[0m         \u001b[38;5;124m\"\u001b[39m\u001b[38;5;124mUnable to import required dependencies:\u001b[39m\u001b[38;5;130;01m\\n\u001b[39;00m\u001b[38;5;124m\"\u001b[39m \u001b[38;5;241m+\u001b[39m \u001b[38;5;124m\"\u001b[39m\u001b[38;5;130;01m\\n\u001b[39;00m\u001b[38;5;124m\"\u001b[39m\u001b[38;5;241m.\u001b[39mjoin(_missing_dependencies)\n\u001b[0;32m     18\u001b[0m     )\n\u001b[0;32m     19\u001b[0m \u001b[38;5;28;01mdel\u001b[39;00m _hard_dependencies, _dependency, _missing_dependencies\n\u001b[0;32m     21\u001b[0m \u001b[38;5;66;03m# numpy compat\u001b[39;00m\n",
      "\u001b[1;31mImportError\u001b[0m: Unable to import required dependencies:\nnumpy: \n\nIMPORTANT: PLEASE READ THIS FOR ADVICE ON HOW TO SOLVE THIS ISSUE!\n\nImporting the numpy C-extensions failed. This error can happen for\nmany reasons, often due to issues with your setup or how NumPy was\ninstalled.\n\nWe have compiled some common reasons and troubleshooting tips at:\n\n    https://numpy.org/devdocs/user/troubleshooting-importerror.html\n\nPlease note and check the following:\n\n  * The Python version is: Python3.12 from \"c:\\Users\\jkpxtwin\\AppData\\Local\\Programs\\Python\\Python312\\python.exe\"\n  * The NumPy version is: \"1.25.2\"\n\nand make sure that they are the versions you expect.\nPlease carefully study the documentation linked above for further help.\n\nOriginal error was: No module named 'numpy.core._multiarray_umath'\n"
     ]
    }
   ],
   "source": [
    "import pandas as pd\n",
    "import numpy as np\n",
    "import matplotlib.pyplot as plt\n",
    "import seaborn as sns\n",
    "\n",
    "from sklearn.linear_model import LinearRegression\n",
    "\n",
    "# from statsmodels.tsa.stattools import adfuller"
   ]
  },
  {
   "cell_type": "code",
   "execution_count": null,
   "metadata": {},
   "outputs": [],
   "source": [
    "M=91\n",
    "N=11"
   ]
  },
  {
   "cell_type": "code",
   "execution_count": null,
   "metadata": {},
   "outputs": [],
   "source": [
    "# Initialize\n",
    "def init(df):\n",
    "    df[\"Date\"]=df[\"Date\"].str.strip()\n",
    "    df[\"Date\"]=pd.to_datetime(df[\"Date\"])\n",
    "    df[\"Year\"]=df[\"Date\"].dt.year\n",
    "    df[\"Month\"]=df[\"Date\"].dt.month\n",
    "    df[\"Day\"]=df[\"Date\"].dt.day\n",
    "    # Diff\n",
    "    for i in range(1, len(df)):\n",
    "        df.loc[i, \"Diff\"]=df.loc[i, \"Avg\"]-df.loc[i-1, \"Avg\"]"
   ]
  },
  {
   "cell_type": "markdown",
   "metadata": {},
   "source": [
    "#### Data Preprocessing"
   ]
  },
  {
   "cell_type": "code",
   "execution_count": null,
   "metadata": {},
   "outputs": [],
   "source": [
    "df_2012=pd.read_csv(\"2012년 가을 기온.csv\")\n",
    "# print(df_2012)\n",
    "init(df_2012)\n",
    "print(df_2012)"
   ]
  },
  {
   "cell_type": "code",
   "execution_count": null,
   "metadata": {},
   "outputs": [],
   "source": [
    "df_2013=pd.read_csv(\"2013년 가을 기온.csv\")\n",
    "init(df_2013)\n",
    "\n",
    "df_2014=pd.read_csv(\"2014년 가을 기온.csv\")\n",
    "init(df_2014)\n",
    "\n",
    "df_2015=pd.read_csv(\"2015년 가을 기온.csv\")\n",
    "init(df_2015)\n",
    "\n",
    "df_2016=pd.read_csv(\"2016년 가을 기온.csv\")\n",
    "init(df_2016)\n",
    "\n",
    "df_2017=pd.read_csv(\"2017년 가을 기온.csv\")\n",
    "init(df_2017)\n",
    "\n",
    "df_2018=pd.read_csv(\"2018년 가을 기온.csv\")\n",
    "init(df_2018)\n",
    "\n",
    "df_2019=pd.read_csv(\"2019년 가을 기온.csv\")\n",
    "init(df_2019)\n",
    "\n",
    "df_2020=pd.read_csv(\"2020년 가을 기온.csv\")\n",
    "init(df_2020)\n",
    "\n",
    "df_2021=pd.read_csv(\"2021년 가을 기온.csv\")\n",
    "init(df_2021)\n",
    "\n",
    "df_2022=pd.read_csv(\"2022년 가을 기온.csv\")\n",
    "init(df_2022)\n",
    "\n",
    "df_2023=pd.read_csv(\"2023년 가을 기온.csv\")\n",
    "init(df_2023)"
   ]
  },
  {
   "cell_type": "code",
   "execution_count": null,
   "metadata": {},
   "outputs": [],
   "source": [
    "df=pd.concat([df_2012, df_2013, df_2014, df_2015, df_2016, df_2017, df_2018, df_2019, df_2020, df_2021, df_2022])\n",
    "print(df)\n",
    "df=df.reset_index(drop=True)\n",
    "print(df)"
   ]
  },
  {
   "cell_type": "code",
   "execution_count": null,
   "metadata": {},
   "outputs": [],
   "source": [
    "# Missing value\n",
    "# print(df.describe())\n",
    "print(df[df[\"High\"].isnull()])\n",
    "df.loc[496, \"High\"]=2*df.loc[496, \"Avg\"]-df.loc[496, \"Low\"] # loc vs iloc\n",
    "print(df.loc[496])\n",
    "\n",
    "print(df_2023.describe())"
   ]
  },
  {
   "cell_type": "code",
   "execution_count": null,
   "metadata": {},
   "outputs": [],
   "source": [
    "# Preprocessed Data\n",
    "print(df)\n",
    "print(df.describe())\n",
    "\n",
    "print(df_2023)\n",
    "print(df_2023.describe())"
   ]
  },
  {
   "cell_type": "markdown",
   "metadata": {},
   "source": [
    "#### Visualization"
   ]
  },
  {
   "cell_type": "code",
   "execution_count": null,
   "metadata": {},
   "outputs": [],
   "source": [
    "# Fig 1\n",
    "fig, ax = plt.subplots(1, 3, figsize=(20, 5))\n",
    "sns.lineplot(ax=ax[0], x=df.index, y=df[\"Avg\"])\n",
    "sns.lineplot(ax=ax[1], x=range(len(df_2012)), y=df_2012[\"Avg\"])\n",
    "sns.lineplot(ax=ax[2], x=range(len(df_2023)), y=df_2023[\"Avg\"])"
   ]
  },
  {
   "cell_type": "code",
   "execution_count": null,
   "metadata": {},
   "outputs": [],
   "source": [
    "# Fig 2\n",
    "Beginning_and_End=[]\n",
    "for i in range(N):\n",
    "    Beginning_and_End.append(df.loc[91*i, \"Avg\"]-df.loc[91*i+90, \"Avg\"])\n",
    "Beginning_and_End.append(df_2023.loc[0, \"Avg\"]-df_2023.loc[90, \"Avg\"])\n",
    "print(Beginning_and_End)\n",
    "fig = plt.figure()\n",
    "sns.lineplot(x=range(len(Beginning_and_End)), y=Beginning_and_End)"
   ]
  },
  {
   "cell_type": "code",
   "execution_count": null,
   "metadata": {},
   "outputs": [],
   "source": [
    "# Fig 2+ - Linear Regression\n",
    "df_2012_copy=df_2012.copy()\n",
    "day_2012=df_2012_copy.index\n",
    "temperature_2012=df_2012_copy[\"Avg\"]\n",
    "day_2012=day_2012.values.reshape(-1, 1)\n",
    "temperature_2012=temperature_2012.values.reshape(-1, 1)\n",
    "model_Linear_Regression_2012=LinearRegression()\n",
    "model_Linear_Regression_2012.fit(day_2012, temperature_2012)\n",
    "print(model_Linear_Regression_2012.coef_, model_Linear_Regression_2012.intercept_)\n",
    "\n",
    "df_2023_copy=df_2023.copy()\n",
    "day_2023=df_2023_copy.index\n",
    "temperature_2023=df_2023_copy[\"Avg\"]\n",
    "day_2023=day_2023.values.reshape(-1, 1)\n",
    "temperature_2023=temperature_2023.values.reshape(-1, 1)\n",
    "model_Linear_Regression_2023=LinearRegression()\n",
    "model_Linear_Regression_2023.fit(day_2023, temperature_2023)\n",
    "print(model_Linear_Regression_2023.coef_, model_Linear_Regression_2023.intercept_)\n",
    "\n",
    "Linear_Regression_predict_2012=[]\n",
    "Linear_Regression_predict_2023=[]\n",
    "for i in range(M):\n",
    "    Linear_Regression_predict_2012.append(model_Linear_Regression_2012.predict(day_2012)[i][0])\n",
    "    Linear_Regression_predict_2023.append(model_Linear_Regression_2023.predict(day_2023)[i][0])\n",
    "\n",
    "fig, ax = plt.subplots(1, 2, figsize=(16, 5))\n",
    "sns.lineplot(ax=ax[0], x=df_2012_copy.index, y=df_2012_copy[\"Avg\"])\n",
    "sns.lineplot(ax=ax[0], x=df_2012_copy.index, y=Linear_Regression_predict_2012)\n",
    "sns.lineplot(ax=ax[1], x=df_2023_copy.index, y=df_2023_copy[\"Avg\"])\n",
    "sns.lineplot(ax=ax[1], x=df_2023_copy.index, y=Linear_Regression_predict_2023)"
   ]
  },
  {
   "cell_type": "code",
   "execution_count": null,
   "metadata": {},
   "outputs": [],
   "source": [
    "# Fig 3\n",
    "print(df.mean())\n",
    "print(df.groupby([\"Year\"]).mean())\n",
    "\n",
    "print(df_2023.mean())"
   ]
  },
  {
   "cell_type": "code",
   "execution_count": null,
   "metadata": {},
   "outputs": [],
   "source": [
    "# Fig 4\n",
    "fig, ax = plt.subplots(1, 3, figsize=(20, 5))\n",
    "sns.histplot(ax=ax[0], data=df[\"Avg\"], bins=list(range(-8, 31)))\n",
    "sns.histplot(ax=ax[1], data=df_2012[\"Avg\"], bins=list(range(-8, 31)))\n",
    "sns.histplot(ax=ax[2], data=df_2023[\"Avg\"], bins=list(range(-8, 31)))"
   ]
  },
  {
   "cell_type": "code",
   "execution_count": null,
   "metadata": {},
   "outputs": [],
   "source": [
    "# Fig 5\n",
    "fig = plt.figure(figsize=(17, 13))\n",
    "sns.boxplot([df_2012[\"Avg\"], df_2013[\"Avg\"], df_2014[\"Avg\"], df_2015[\"Avg\"], df_2016[\"Avg\"], df_2017[\"Avg\"], df_2018[\"Avg\"], df_2019[\"Avg\"], df_2020[\"Avg\"], df_2021[\"Avg\"], df_2022[\"Avg\"], df_2023[\"Avg\"]])"
   ]
  },
  {
   "cell_type": "code",
   "execution_count": null,
   "metadata": {},
   "outputs": [],
   "source": [
    "# Fig 6\n",
    "# print(df_2012[\"Diff\"])\n",
    "# print(df_2023[\"Diff\"])\n",
    "\n",
    "fig, ax = plt.subplots(1, 2, figsize=(16, 5))\n",
    "sns.lineplot(ax=ax[0], x=df_2012.index, y=df_2012[\"Diff\"])\n",
    "sns.lineplot(ax=ax[1], x=df_2023.index, y=df_2023[\"Diff\"])\n",
    "\n",
    "print(df[\"Avg\"].std())\n",
    "print(df_2012[\"Avg\"].std())\n",
    "print(df_2023[\"Avg\"].std())\n",
    "\n",
    "print(len(df[df[\"Diff\"]>0])/N)\n",
    "print(len(df_2012[df_2012[\"Diff\"]>0]))\n",
    "print(len(df_2023[df_2023[\"Diff\"]>0]))\n",
    "\n",
    "print(len(df[abs(df[\"Diff\"])>3])/N)\n",
    "print(len(df_2012[abs(df_2012[\"Diff\"])>3]))\n",
    "print(len(df_2023[abs(df_2023[\"Diff\"])>3]))\n",
    "\n",
    "print(len(df[abs(df[\"Diff\"])>4])/N)\n",
    "print(len(df_2012[abs(df_2012[\"Diff\"])>4]))\n",
    "print(len(df_2023[abs(df_2023[\"Diff\"])>4]))\n",
    "\n",
    "print(len(df[abs(df[\"Diff\"])>5])/N)\n",
    "print(len(df_2012[abs(df_2012[\"Diff\"])>5]))\n",
    "print(len(df_2023[abs(df_2023[\"Diff\"])>5]))\n",
    "\n",
    "print(len(df[abs(df[\"Diff\"])>6])/N)\n",
    "print(len(df_2012[abs(df_2012[\"Diff\"])>6]))\n",
    "print(len(df_2023[abs(df_2023[\"Diff\"])>6]))"
   ]
  },
  {
   "cell_type": "markdown",
   "metadata": {},
   "source": [
    "#### Model, Prediction"
   ]
  },
  {
   "cell_type": "code",
   "execution_count": null,
   "metadata": {},
   "outputs": [],
   "source": [
    "# df=df.drop([\"Date\", \"Year\", \"Month\", \"Day\", \"Low\", \"High\", \"Diff\"], axis=\"columns\")\n",
    "# print(df)"
   ]
  }
 ],
 "metadata": {
  "kernelspec": {
   "display_name": "Python 3",
   "language": "python",
   "name": "python3"
  },
  "language_info": {
   "codemirror_mode": {
    "name": "ipython",
    "version": 3
   },
   "file_extension": ".py",
   "mimetype": "text/x-python",
   "name": "python",
   "nbconvert_exporter": "python",
   "pygments_lexer": "ipython3",
   "version": "3.12.0"
  }
 },
 "nbformat": 4,
 "nbformat_minor": 2
}
